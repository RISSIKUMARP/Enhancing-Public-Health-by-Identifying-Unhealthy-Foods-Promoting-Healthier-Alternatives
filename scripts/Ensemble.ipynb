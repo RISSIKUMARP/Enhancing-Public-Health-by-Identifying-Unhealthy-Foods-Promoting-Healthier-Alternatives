{
 "cells": [
  {
   "cell_type": "code",
   "execution_count": 1,
   "id": "d67b4689",
   "metadata": {},
   "outputs": [],
   "source": [
    "import pandas as pd\n",
    "import numpy as np\n",
    "\n",
    "import matplotlib.pyplot as plt\n",
    "import seaborn as sns\n",
    "\n",
    "from sklearn.ensemble import RandomForestClassifier\n",
    "from sklearn.model_selection import train_test_split\n",
    "from sklearn.preprocessing import StandardScaler\n",
    "from sklearn.metrics import confusion_matrix, classification_report, ConfusionMatrixDisplay\n",
    "\n",
    "import warnings\n",
    "warnings.filterwarnings('ignore')"
   ]
  },
  {
   "cell_type": "code",
   "execution_count": 2,
   "id": "b5df0b4e",
   "metadata": {},
   "outputs": [],
   "source": [
    "data = pd.read_csv(r'C:\\Users\\kavir\\OneDrive\\Documents\\GitHub\\Enhancing-Public-Health-by-Identifying-Unhealthy-Foods-Promoting-Healthier-Alternatives\\datasets\\cleaned_final_dataset.csv') "
   ]
  },
  {
   "cell_type": "code",
   "execution_count": 3,
   "id": "a458e1e5",
   "metadata": {},
   "outputs": [
    {
     "name": "stdout",
     "output_type": "stream",
     "text": [
      "healthy\n",
      "0    937\n",
      "1    282\n",
      "Name: count, dtype: int64\n"
     ]
    }
   ],
   "source": [
    "data['healthy'] = (data['calories'] < 120).astype(int)\n",
    "\n",
    "features = ['calories', 'protein', 'fat']\n",
    "X = data[features]\n",
    "y = data['healthy']\n",
    "\n",
    "print(y.value_counts())"
   ]
  },
  {
   "cell_type": "code",
   "execution_count": 5,
   "id": "9b0fb7a5",
   "metadata": {},
   "outputs": [],
   "source": [
    "X_train, X_test, y_train, y_test = train_test_split( X, y, test_size=0.2, random_state=42, stratify=y)\n",
    "\n",
    "scaler = StandardScaler()\n",
    "X_train_scaled = scaler.fit_transform(X_train)\n",
    "X_test_scaled = scaler.transform(X_test)\n"
   ]
  },
  {
   "cell_type": "code",
   "execution_count": 10,
   "id": "da922cd5",
   "metadata": {},
   "outputs": [
    {
     "name": "stdout",
     "output_type": "stream",
     "text": [
      "Training Set After Scaling (Transformed):\n",
      "     calories   protein       fat  healthy\n",
      "374  0.897327  1.480119  2.878190        0\n",
      "305 -0.165505  2.533371  0.393360        0\n",
      "384 -0.460427 -1.363661  0.346615        0\n",
      "860  0.980796 -0.346980  0.636922        0\n",
      "238 -0.354700  0.938864  0.454865        0\n",
      "\n",
      "Testing Set After Scaling (Transformed):\n",
      "     calories   protein       fat  healthy\n",
      "50   0.880634  1.175846  0.155948        0\n",
      "235 -0.710833  0.687254 -0.409905        0\n",
      "239 -0.716397  0.883276  0.335544        0\n",
      "64   1.014183 -1.074017  0.208843        0\n",
      "108  0.697003  2.006745  2.878190        0\n"
     ]
    }
   ],
   "source": [
    "X_train_scaled_df = pd.DataFrame(X_train_scaled, columns=features)\n",
    "X_train_scaled_df['healthy'] = y_train.values\n",
    "\n",
    "X_test_scaled_df = pd.DataFrame(X_test_scaled, columns=features)\n",
    "X_test_scaled_df['healthy'] = y_test.values\n",
    "\n",
    "print(\"Training Set After Scaling (Transformed):\")\n",
    "print(X_train_scaled_df.sample(5))\n",
    "\n",
    "print(\"\\nTesting Set After Scaling (Transformed):\")\n",
    "print(X_test_scaled_df.sample(5))"
   ]
  },
  {
   "cell_type": "code",
   "execution_count": 6,
   "id": "47fac8be",
   "metadata": {},
   "outputs": [
    {
     "name": "stdout",
     "output_type": "stream",
     "text": [
      "Training Set Sample:\n",
      "      calories  protein    fat  healthy\n",
      "200      167.0    14.30   7.14        0\n",
      "1196     250.0    13.02   9.27        0\n",
      "18        71.0     3.33   3.75        1\n",
      "259      390.0     8.26   1.83        0\n",
      "1210     457.0     7.00  12.29        0\n",
      "\n",
      "Testing Set Sample:\n",
      "      calories  protein    fat  healthy\n",
      "73       545.0    18.04  32.10        0\n",
      "1025     336.0     3.98  12.89        0\n",
      "1101     233.0     7.23   5.57        0\n",
      "673      382.0     1.65   0.20        0\n",
      "579      500.0    27.80  32.10        0\n"
     ]
    }
   ],
   "source": [
    "X_train_df = pd.DataFrame(X_train, columns=features)\n",
    "X_train_df['healthy'] = y_train.values\n",
    "\n",
    "X_test_df = pd.DataFrame(X_test, columns=features)\n",
    "X_test_df['healthy'] = y_test.values\n",
    "\n",
    "print(\"Training Set Sample:\")\n",
    "print(X_train_df.sample(5))\n",
    "\n",
    "print(\"\\nTesting Set Sample:\")\n",
    "print(X_test_df.sample(5))"
   ]
  },
  {
   "cell_type": "code",
   "execution_count": 7,
   "id": "3d1c83fa",
   "metadata": {},
   "outputs": [],
   "source": [
    "rf_model = RandomForestClassifier(n_estimators=100, random_state=42)\n",
    "\n",
    "rf_model.fit(X_train_scaled, y_train)\n",
    "\n",
    "y_pred_rf = rf_model.predict(X_test_scaled)"
   ]
  },
  {
   "cell_type": "code",
   "execution_count": 8,
   "id": "cef59906",
   "metadata": {},
   "outputs": [
    {
     "name": "stdout",
     "output_type": "stream",
     "text": [
      "Confusion Matrix - Random Forest Classifier:\n",
      "[[188   0]\n",
      " [  0  56]]\n",
      "\n",
      "Classification Report - Random Forest Classifier:\n",
      "              precision    recall  f1-score   support\n",
      "\n",
      "           0       1.00      1.00      1.00       188\n",
      "           1       1.00      1.00      1.00        56\n",
      "\n",
      "    accuracy                           1.00       244\n",
      "   macro avg       1.00      1.00      1.00       244\n",
      "weighted avg       1.00      1.00      1.00       244\n",
      "\n"
     ]
    },
    {
     "data": {
      "image/png": "[encoded data removed]",
      "text/plain": [
       "<Figure size 640x480 with 2 Axes>"
      ]
     },
     "metadata": {},
     "output_type": "display_data"
    }
   ],
   "source": [
    "cm_rf = confusion_matrix(y_test, y_pred_rf)\n",
    "cr_rf = classification_report(y_test, y_pred_rf)\n",
    "\n",
    "print(\"Confusion Matrix - Random Forest Classifier:\")\n",
    "print(cm_rf)\n",
    "\n",
    "print(\"\\nClassification Report - Random Forest Classifier:\")\n",
    "print(cr_rf)\n",
    "\n",
    "disp_rf = ConfusionMatrixDisplay(confusion_matrix=cm_rf)\n",
    "disp_rf.plot(cmap='Greens')\n",
    "plt.title(\"Confusion Matrix - Random Forest Classifier\")\n",
    "plt.show()"
   ]
  },
  {
   "cell_type": "code",
   "execution_count": null,
   "id": "6d979b4a",
   "metadata": {},
   "outputs": [],
   "source": []
  }
 ],
 "metadata": {
  "kernelspec": {
   "display_name": "rissi_envi",
   "language": "python",
   "name": "python3"
  },
  "language_info": {
   "codemirror_mode": {
    "name": "ipython",
    "version": 3
   },
   "file_extension": ".py",
   "mimetype": "text/x-python",
   "name": "python",
   "nbconvert_exporter": "python",
   "pygments_lexer": "ipython3",
   "version": "3.12.4"
  }
 },
 "nbformat": 4,
 "nbformat_minor": 5
}
