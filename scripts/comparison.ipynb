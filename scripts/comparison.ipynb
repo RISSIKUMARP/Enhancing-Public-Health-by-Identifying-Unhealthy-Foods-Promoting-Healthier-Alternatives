{
 "cells": [
  {
   "cell_type": "code",
   "execution_count": 1,
   "metadata": {},
   "outputs": [],
   "source": [
    "import pandas as pd\n",
    "from sklearn.model_selection import train_test_split"
   ]
  },
  {
   "cell_type": "code",
   "execution_count": 2,
   "metadata": {},
   "outputs": [],
   "source": [
    "df = pd.read_csv(r\"C:\\Users\\kavir\\OneDrive\\Documents\\GitHub\\Enhancing-Public-Health-by-Identifying-Unhealthy-Foods-Promoting-Healthier-Alternatives\\datasets\\cleaned_final_dataset.csv\")\n",
    "\n",
    "df['healthy'] = (df['calories'] < 120).astype(int)\n",
    "\n",
    "features = ['calories', 'protein', 'fat']\n",
    "X = df[features]\n",
    "\n",
    "y_classification = df['healthy']\n",
    "\n",
    "y_regression = df['calories']\n",
    "\n",
    "X_train_class, X_test_class, y_train_class, y_test_class = train_test_split(\n",
    "    X, y_classification, test_size=0.3, random_state=42)\n",
    "\n",
    "X_train_reg, X_test_reg, y_train_reg, y_test_reg = train_test_split(\n",
    "    X, y_regression, test_size=0.3, random_state=42)"
   ]
  },
  {
   "cell_type": "code",
   "execution_count": 3,
   "metadata": {},
   "outputs": [
    {
     "name": "stdout",
     "output_type": "stream",
     "text": [
      "Classification:\n",
      "Train shape: (853, 3) | Test shape: (366, 3)\n",
      "Regression:\n",
      "Train shape: (853, 3) | Test shape: (366, 3)\n"
     ]
    }
   ],
   "source": [
    "print(\"Classification:\")\n",
    "print(\"Train shape:\", X_train_class.shape, \"| Test shape:\", X_test_class.shape)\n",
    "print(\"Regression:\")\n",
    "print(\"Train shape:\", X_train_reg.shape, \"| Test shape:\", X_test_reg.shape)"
   ]
  },
  {
   "cell_type": "code",
   "execution_count": null,
   "metadata": {},
   "outputs": [],
   "source": []
  }
 ],
 "metadata": {
  "kernelspec": {
   "display_name": "rissi_envi",
   "language": "python",
   "name": "python3"
  },
  "language_info": {
   "codemirror_mode": {
    "name": "ipython",
    "version": 3
   },
   "file_extension": ".py",
   "mimetype": "text/x-python",
   "name": "python",
   "nbconvert_exporter": "python",
   "pygments_lexer": "ipython3",
   "version": "3.12.4"
  }
 },
 "nbformat": 4,
 "nbformat_minor": 2
}
