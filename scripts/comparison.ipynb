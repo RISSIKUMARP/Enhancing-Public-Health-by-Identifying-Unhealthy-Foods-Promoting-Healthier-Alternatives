{
 "cells": [
  {
   "cell_type": "code",
   "execution_count": 2,
   "metadata": {},
   "outputs": [],
   "source": [
    "import nbformat             \n",
    "import numpy as np          \n",
    "import pandas as pd      \n",
    "\n",
    "from sklearn.model_selection import train_test_split\n",
    "from sklearn.preprocessing import StandardScaler, MinMaxScaler, Binarizer\n",
    "from sklearn.linear_model import LogisticRegression, LinearRegression\n",
    "from sklearn.tree import DecisionTreeClassifier, plot_tree, export_text\n",
    "from sklearn.naive_bayes import MultinomialNB, GaussianNB, BernoulliNB\n",
    "from sklearn.metrics import (\n",
    "    accuracy_score,\n",
    "    confusion_matrix,\n",
    "    ConfusionMatrixDisplay,\n",
    "    precision_score,\n",
    "    recall_score,\n",
    "    f1_score\n",
    ")\n",
    "import matplotlib.pyplot as plt \n",
    "import seaborn as sns        \n",
    "import math                      \n"
   ]
  },
  {
   "cell_type": "code",
   "execution_count": null,
   "metadata": {},
   "outputs": [
    {
     "name": "stdout",
     "output_type": "stream",
     "text": [
      "\n"
     ]
    }
   ],
   "source": [
    "dt_path = 'DT.ipynb'\n",
    "nb_path = 'NB.ipynb'\n",
    "reg_path = 'Regression.ipynb'\n",
    "\n",
    "dt_nb = nbformat.read(open(dt_path, 'r', encoding='utf-8'), as_version=4)\n",
    "nb_nb = nbformat.read(open(nb_path, 'r', encoding='utf-8'), as_version=4)\n",
    "reg_nb = nbformat.read(open(reg_path, 'r', encoding='utf-8'), as_version=4)\n",
    "\n",
    "dt_code = [cell['source'] for cell in dt_nb.cells if cell.cell_type == 'code']\n",
    "nb_code = [cell['source'] for cell in nb_nb.cells if cell.cell_type == 'code']\n",
    "reg_code = [cell['source'] for cell in reg_nb.cells if cell.cell_type == 'code']\n",
    "\n",
    "print(reg_code[-1])"
   ]
  },
  {
   "cell_type": "code",
   "execution_count": 6,
   "metadata": {},
   "outputs": [
    {
     "ename": "NameError",
     "evalue": "name 'X_raw' is not defined",
     "output_type": "error",
     "traceback": [
      "\u001b[31m---------------------------------------------------------------------------\u001b[39m",
      "\u001b[31mNameError\u001b[39m                                 Traceback (most recent call last)",
      "\u001b[36mCell\u001b[39m\u001b[36m \u001b[39m\u001b[32mIn[6]\u001b[39m\u001b[32m, line 2\u001b[39m\n\u001b[32m      1\u001b[39m scaler_mnb = MinMaxScaler()\n\u001b[32m----> \u001b[39m\u001b[32m2\u001b[39m X_mnb_scaled = scaler_mnb.fit_transform(\u001b[43mX_raw\u001b[49m)\n\u001b[32m      3\u001b[39m X_mnb = np.round(X_mnb_scaled * \u001b[32m100\u001b[39m)\n\u001b[32m      5\u001b[39m X_train_mnb, X_test_mnb, y_train, y_test = train_test_split(X_mnb, y, test_size=\u001b[32m0.3\u001b[39m, random_state=\u001b[32m42\u001b[39m)\n",
      "\u001b[31mNameError\u001b[39m: name 'X_raw' is not defined"
     ]
    }
   ],
   "source": [
    "scaler_mnb = MinMaxScaler()\n",
    "X_mnb_scaled = scaler_mnb.fit_transform(X_raw)\n",
    "X_mnb = np.round(X_mnb_scaled * 100)\n",
    "\n",
    "X_train_mnb, X_test_mnb, y_train, y_test = train_test_split(X_mnb, y, test_size=0.3, random_state=42)\n",
    "\n",
    "mnb = MultinomialNB()\n",
    "mnb.fit(X_train_mnb, y_train)\n",
    "mnb_preds = mnb.predict(X_test_mnb)\n",
    "mnb_acc = accuracy_score(y_test, mnb_preds)\n",
    "mnb_cm = confusion_matrix(y_test, mnb_preds)\n",
    "\n",
    "# BernoulliNB\n",
    "bnb = BernoulliNB()\n",
    "bnb.fit(X_train_bnb, y_train)\n",
    "bnb_preds = bnb.predict(X_test_bnb)\n",
    "bnb_acc = accuracy_score(y_test, bnb_preds)\n",
    "bnb_cm = confusion_matrix(y_test, bnb_preds)\n",
    "\n",
    "# GaussianNB\n",
    "gnb = GaussianNB()\n",
    "gnb.fit(X_train_gnb, y_train)\n",
    "gnb_preds = gnb.predict(X_test_gnb)\n",
    "gnb_acc = accuracy_score(y_test, gnb_preds)\n",
    "gnb_cm = confusion_matrix(y_test, gnb_preds)\n",
    "\n",
    "# Display Confusion Matrices\n",
    "fig, axs = plt.subplots(1, 3, figsize=(18, 5))\n",
    "models = ['MultinomialNB', 'GaussianNB', 'BernoulliNB']\n",
    "cms = [mnb_cm, gnb_cm, bnb_cm]\n",
    "\n",
    "for i, cm in enumerate(cms):\n",
    "    disp = ConfusionMatrixDisplay(confusion_matrix=cm, display_labels=['Unhealthy', 'Healthy'])\n",
    "    disp.plot(ax=axs[i], values_format='d')\n",
    "    axs[i].set_title(models[i])\n",
    "\n",
    "plt.tight_layout()\n",
    "plt.show()\n"
   ]
  },
  {
   "cell_type": "code",
   "execution_count": null,
   "metadata": {},
   "outputs": [],
   "source": []
  }
 ],
 "metadata": {
  "kernelspec": {
   "display_name": "rissi_envi",
   "language": "python",
   "name": "python3"
  },
  "language_info": {
   "codemirror_mode": {
    "name": "ipython",
    "version": 3
   },
   "file_extension": ".py",
   "mimetype": "text/x-python",
   "name": "python",
   "nbconvert_exporter": "python",
   "pygments_lexer": "ipython3",
   "version": "3.12.4"
  }
 },
 "nbformat": 4,
 "nbformat_minor": 2
}
